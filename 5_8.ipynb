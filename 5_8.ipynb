{
  "nbformat": 4,
  "nbformat_minor": 0,
  "metadata": {
    "colab": {
      "provenance": [],
      "authorship_tag": "ABX9TyNMaBP5DYw6MDS+EV0eCFnT",
      "include_colab_link": true
    },
    "kernelspec": {
      "name": "python3",
      "display_name": "Python 3"
    },
    "language_info": {
      "name": "python"
    }
  },
  "cells": [
    {
      "cell_type": "markdown",
      "metadata": {
        "id": "view-in-github",
        "colab_type": "text"
      },
      "source": [
        "<a href=\"https://colab.research.google.com/github/andy3764/TKU-AI-412570482/blob/main/5_8.ipynb\" target=\"_parent\"><img src=\"https://colab.research.google.com/assets/colab-badge.svg\" alt=\"Open In Colab\"/></a>"
      ]
    },
    {
      "cell_type": "code",
      "source": [
        "\n",
        "a=input()\n",
        "sc = int(a)\n",
        "if(sc>=37.5):\n",
        "  print('體溫過高!')\n",
        "elif(sc>=37):\n",
        "  print('體溫略高!')\n",
        "elif(sc>=34):\n",
        "  print('體溫正常!')\n",
        "else:\n",
        "  print('體溫異常，請重新量測!')"
      ],
      "metadata": {
        "colab": {
          "base_uri": "https://localhost:8080/"
        },
        "id": "neKg7daJHqsM",
        "outputId": "1a23873c-f5e9-48e9-89d0-ddb363fde741"
      },
      "execution_count": 2,
      "outputs": [
        {
          "output_type": "stream",
          "name": "stdout",
          "text": [
            "31\n",
            "體溫異常，請重新量測!\n"
          ]
        }
      ]
    },
    {
      "cell_type": "code",
      "execution_count": null,
      "metadata": {
        "id": "TUDtP8eKHilR"
      },
      "outputs": [],
      "source": [
        "\n",
        "score=input('請輸入分數')\n",
        "sc = int(score)\n",
        "if(sc>=90):\n",
        "  print('A')\n",
        "elif(sc>=80):\n",
        "  print('B')\n",
        "elif(sc>=70):\n",
        "  print('C')\n",
        "elif(sc>=60):\n",
        "  print('D')\n",
        "else:\n",
        "  print('F')"
      ]
    },
    {
      "cell_type": "code",
      "source": [
        "a=input()\n",
        "sc = int(a)\n",
        "if(sc== 3 or sc== 4 or sc== 5 ):\n",
        "  print(sc,'月是春天')\n",
        "elif(sc== 6 or sc== 7 or sc== 8 ):\n",
        "  print(sc,'月是夏天')\n",
        "elif(sc== sc== 9 or sc== 10 or sc== 11 ):\n",
        "  print(sc,'月是秋天')\n",
        "elif(sc== 12 or sc== 1 or sc== 2 ):\n",
        "  print(sc,'月是冬天')\n",
        "else:\n",
        "  print('月份不在範圍內')"
      ],
      "metadata": {
        "colab": {
          "base_uri": "https://localhost:8080/"
        },
        "id": "WD0aOe8YMP_f",
        "outputId": "4e2180c0-3d87-4fac-f8f4-39e82cd12a52"
      },
      "execution_count": 6,
      "outputs": [
        {
          "output_type": "stream",
          "name": "stdout",
          "text": [
            "5\n",
            "5 月是春天\n"
          ]
        }
      ]
    },
    {
      "cell_type": "code",
      "source": [],
      "metadata": {
        "id": "cd-tVOZ3NlRk"
      },
      "execution_count": null,
      "outputs": []
    }
  ]
}