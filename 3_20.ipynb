{
  "nbformat": 4,
  "nbformat_minor": 0,
  "metadata": {
    "colab": {
      "provenance": [],
      "authorship_tag": "ABX9TyNLpksJxk0chTn+g1MTbSVj",
      "include_colab_link": true
    },
    "kernelspec": {
      "name": "python3",
      "display_name": "Python 3"
    },
    "language_info": {
      "name": "python"
    }
  },
  "cells": [
    {
      "cell_type": "markdown",
      "metadata": {
        "id": "view-in-github",
        "colab_type": "text"
      },
      "source": [
        "<a href=\"https://colab.research.google.com/github/andy3764/TKU-AI-412570482/blob/main/3_20.ipynb\" target=\"_parent\"><img src=\"https://colab.research.google.com/assets/colab-badge.svg\" alt=\"Open In Colab\"/></a>"
      ]
    },
    {
      "cell_type": "code",
      "execution_count": 1,
      "metadata": {
        "colab": {
          "base_uri": "https://localhost:8080/"
        },
        "id": "civbPZmAXxeW",
        "outputId": "83b9517c-f918-4d39-f82f-9a7502a9ea0b"
      },
      "outputs": [
        {
          "output_type": "stream",
          "name": "stdout",
          "text": [
            "請輸入國文成績60\n",
            "請輸入英文成績60\n",
            "請輸入國文成績60\n",
            "你的成績總分為:\n",
            "180\n"
          ]
        }
      ],
      "source": [
        "test = int(input('請輸入國文成績'))\n",
        "test2 = int(input('請輸入英文成績'))\n",
        "test3 = int(input('請輸入國文成績'))\n",
        "print('你的成績總分為:')\n",
        "print(test+test2+test3)"
      ]
    },
    {
      "cell_type": "code",
      "source": [
        "上底 = int(input('請輸入梯形上底長度:'))\n",
        "下底 = int(input('請輸入梯形下底長度:'))\n",
        "高 = int(input('請輸入梯形高度:'))\n",
        "面積 = (上底+下底)*高/2\n",
        "print('上底長度為:',上底,'下底長度為:',下底,'高度為:',高,'梯形面積為:',面積)"
      ],
      "metadata": {
        "colab": {
          "base_uri": "https://localhost:8080/"
        },
        "id": "J3HZ8slianVD",
        "outputId": "5cb2ea0a-85d6-47ae-cbfa-fa278e36fb47"
      },
      "execution_count": 6,
      "outputs": [
        {
          "output_type": "stream",
          "name": "stdout",
          "text": [
            "請輸入梯形上底長度:5\n",
            "請輸入梯形下底長度:5\n",
            "請輸入梯形高度:5\n",
            "上底長度為: 5 下底長度為: 5 高度為: 5 梯形面積為: 25.0\n"
          ]
        }
      ]
    },
    {
      "cell_type": "code",
      "source": [
        "身高 = int(input('請輸入您的身高(cm):'))\n",
        "體重 = int(input('請輸入您的體重(kg):'))\n",
        "BMI = 體重/(身高/100)**2\n",
        "print('身高',身高,'公分,體重',體重,'公斤,BMI值為',BMI)"
      ],
      "metadata": {
        "colab": {
          "base_uri": "https://localhost:8080/"
        },
        "id": "czhQxoZXcBnY",
        "outputId": "8a72a389-955d-40aa-a2ac-a6c23c8bd6a8"
      },
      "execution_count": 7,
      "outputs": [
        {
          "output_type": "stream",
          "name": "stdout",
          "text": [
            "請輸入您的身高(cm):180\n",
            "請輸入您的體重(kg):80\n",
            "身高 180 公分,體重 80 公斤,BMI值為 24.691358024691358\n"
          ]
        }
      ]
    },
    {
      "cell_type": "code",
      "source": [],
      "metadata": {
        "id": "ky3CgdXSdbyR"
      },
      "execution_count": null,
      "outputs": []
    }
  ]
}