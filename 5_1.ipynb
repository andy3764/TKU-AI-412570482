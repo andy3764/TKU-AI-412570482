{
  "nbformat": 4,
  "nbformat_minor": 0,
  "metadata": {
    "colab": {
      "provenance": [],
      "authorship_tag": "ABX9TyPepscOs8e7ZG7s5wtI2AId",
      "include_colab_link": true
    },
    "kernelspec": {
      "name": "python3",
      "display_name": "Python 3"
    },
    "language_info": {
      "name": "python"
    }
  },
  "cells": [
    {
      "cell_type": "markdown",
      "metadata": {
        "id": "view-in-github",
        "colab_type": "text"
      },
      "source": [
        "<a href=\"https://colab.research.google.com/github/andy3764/TKU-AI-412570482/blob/main/5_1.ipynb\" target=\"_parent\"><img src=\"https://colab.research.google.com/assets/colab-badge.svg\" alt=\"Open In Colab\"/></a>"
      ]
    },
    {
      "cell_type": "code",
      "execution_count": 1,
      "metadata": {
        "colab": {
          "base_uri": "https://localhost:8080/"
        },
        "id": "cf1PXNlBndHw",
        "outputId": "c71492c2-ea5b-4cba-e8d3-5a60d83ec0e1"
      },
      "outputs": [
        {
          "output_type": "stream",
          "name": "stdout",
          "text": [
            "0501\n"
          ]
        }
      ],
      "source": [
        "print('0501')"
      ]
    },
    {
      "cell_type": "code",
      "source": [
        "score = int(input('請輸入分數'))\n",
        "if(score>=60):\n",
        "  print('及格')"
      ],
      "metadata": {
        "colab": {
          "base_uri": "https://localhost:8080/"
        },
        "id": "a_oahQq-oKnM",
        "outputId": "8c6a187b-0be0-4f0c-e236-5a7f669ee2ff"
      },
      "execution_count": 3,
      "outputs": [
        {
          "output_type": "stream",
          "name": "stdout",
          "text": [
            "請輸入分數75\n",
            "及格\n"
          ]
        }
      ]
    },
    {
      "cell_type": "code",
      "source": [
        "數學=62\n",
        "英文=50\n",
        "if 數學>英文:\n",
        "  print('數學比較高')\n",
        "else:\n",
        "  print('英文比較高')\n"
      ],
      "metadata": {
        "colab": {
          "base_uri": "https://localhost:8080/"
        },
        "id": "Lipr40LRouEX",
        "outputId": "00b35c23-b7ea-48a4-ece0-e4ca93f98c4d"
      },
      "execution_count": 7,
      "outputs": [
        {
          "output_type": "stream",
          "name": "stdout",
          "text": [
            "數學比較高\n"
          ]
        }
      ]
    },
    {
      "cell_type": "code",
      "source": [
        "密碼=input('請輸入密碼')\n",
        "答案=1234\n",
        "if 密碼==答案:\n",
        "  print('歡迎光臨!')\n"
      ],
      "metadata": {
        "colab": {
          "base_uri": "https://localhost:8080/"
        },
        "id": "W7r0iipXpxCt",
        "outputId": "98bafa59-13da-41ff-ebc1-88b4c5034248"
      },
      "execution_count": 8,
      "outputs": [
        {
          "name": "stdout",
          "output_type": "stream",
          "text": [
            "請輸入密碼1564\n"
          ]
        }
      ]
    },
    {
      "cell_type": "code",
      "source": [
        "A=input('今天會下雨嗎')\n",
        "if (A=='y'or A=='Y'):\n",
        "  print('出門記得帶傘!')\n"
      ],
      "metadata": {
        "colab": {
          "base_uri": "https://localhost:8080/"
        },
        "id": "fcTU66ququKk",
        "outputId": "29d9aaab-7d37-4746-911a-6d801d20a48f"
      },
      "execution_count": 9,
      "outputs": [
        {
          "output_type": "stream",
          "name": "stdout",
          "text": [
            "今天會下雨嗎y\n",
            "出門記得帶傘!\n"
          ]
        }
      ]
    },
    {
      "cell_type": "code",
      "source": [
        "密碼=input('請輸入密碼')\n",
        "答案=1234\n",
        "if 密碼==答案:\n",
        "  print('歡迎光臨!')\n",
        "else:\n",
        "  print('密碼錯誤')"
      ],
      "metadata": {
        "colab": {
          "base_uri": "https://localhost:8080/"
        },
        "id": "oMn0BdferIZl",
        "outputId": "651c7ef8-d543-4e65-e5c0-1fb1bf754138"
      },
      "execution_count": 10,
      "outputs": [
        {
          "output_type": "stream",
          "name": "stdout",
          "text": [
            "請輸入密碼+556\n",
            "密碼錯誤\n"
          ]
        }
      ]
    },
    {
      "cell_type": "code",
      "source": [
        "A=input('今天會下雨嗎')\n",
        "if (A=='y'or A=='Y'):\n",
        "  print('出門記得帶傘!')\n",
        "else:\n",
        "  print('不用帶傘')"
      ],
      "metadata": {
        "colab": {
          "base_uri": "https://localhost:8080/"
        },
        "id": "d0sy3aqgrW5a",
        "outputId": "0e4f66d4-7f8b-4c92-8332-beb3f8e5eb1d"
      },
      "execution_count": 11,
      "outputs": [
        {
          "output_type": "stream",
          "name": "stdout",
          "text": [
            "今天會下雨嗎n\n",
            "不用帶傘\n"
          ]
        }
      ]
    },
    {
      "cell_type": "code",
      "source": [
        "A=input()\n",
        "print('請輸入正整數:',A)\n",
        "b=int(A)\n",
        "a = b%2\n",
        "if a==0:\n",
        "  print(A,'為偶數')\n",
        "else:\n",
        "  print(A,'為奇數')"
      ],
      "metadata": {
        "colab": {
          "base_uri": "https://localhost:8080/"
        },
        "id": "muX-LbFCrlLy",
        "outputId": "7c5f6798-8047-49b5-dd85-1dc66caff332"
      },
      "execution_count": 24,
      "outputs": [
        {
          "output_type": "stream",
          "name": "stdout",
          "text": [
            "51\n",
            "請輸入正整數: 51\n",
            "51 為奇數\n"
          ]
        }
      ]
    },
    {
      "cell_type": "code",
      "source": [],
      "metadata": {
        "id": "T0jPoReHsmoc"
      },
      "execution_count": null,
      "outputs": []
    }
  ]
}